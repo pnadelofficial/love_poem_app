{
 "cells": [
  {
   "cell_type": "code",
   "execution_count": 2,
   "metadata": {},
   "outputs": [
    {
     "data": {
      "application/vnd.jupyter.widget-view+json": {
       "model_id": "fbaae808fca04409973e20e0df1728fa",
       "version_major": 2,
       "version_minor": 0
      },
      "text/plain": [
       "Downloading:   0%|          | 0.00/896 [00:00<?, ?B/s]"
      ]
     },
     "metadata": {},
     "output_type": "display_data"
    },
    {
     "data": {
      "application/vnd.jupyter.widget-view+json": {
       "model_id": "890c26049b424dbea5c52b42da2d4aff",
       "version_major": 2,
       "version_minor": 0
      },
      "text/plain": [
       "Downloading:   0%|          | 0.00/999k [00:00<?, ?B/s]"
      ]
     },
     "metadata": {},
     "output_type": "display_data"
    },
    {
     "data": {
      "application/vnd.jupyter.widget-view+json": {
       "model_id": "8fc12c86bcd24d8586cc1eb44ec53655",
       "version_major": 2,
       "version_minor": 0
      },
      "text/plain": [
       "Downloading:   0%|          | 0.00/456k [00:00<?, ?B/s]"
      ]
     },
     "metadata": {},
     "output_type": "display_data"
    },
    {
     "data": {
      "application/vnd.jupyter.widget-view+json": {
       "model_id": "8e6e938d1d5b4e9db08916b0f7e4ba3a",
       "version_major": 2,
       "version_minor": 0
      },
      "text/plain": [
       "Downloading:   0%|          | 0.00/51.0 [00:00<?, ?B/s]"
      ]
     },
     "metadata": {},
     "output_type": "display_data"
    },
    {
     "data": {
      "application/vnd.jupyter.widget-view+json": {
       "model_id": "8442b83ffd65434bab8128c07c2bafeb",
       "version_major": 2,
       "version_minor": 0
      },
      "text/plain": [
       "Downloading:   0%|          | 0.00/579 [00:00<?, ?B/s]"
      ]
     },
     "metadata": {},
     "output_type": "display_data"
    },
    {
     "data": {
      "application/vnd.jupyter.widget-view+json": {
       "model_id": "49cb5e56f18c41b88a30a70deafbe9c1",
       "version_major": 2,
       "version_minor": 0
      },
      "text/plain": [
       "Downloading:   0%|          | 0.00/510M [00:00<?, ?B/s]"
      ]
     },
     "metadata": {},
     "output_type": "display_data"
    }
   ],
   "source": [
    "from transformers import AutoTokenizer, AutoModelForCausalLM\n",
    "\n",
    "tokenizer = AutoTokenizer.from_pretrained(\"pnadel/love-poems\")\n",
    "model = AutoModelForCausalLM.from_pretrained(\"pnadel/love-poems\")"
   ]
  },
  {
   "cell_type": "code",
   "execution_count": 3,
   "metadata": {},
   "outputs": [],
   "source": [
    "import torch\n",
    "prompt = ''\n",
    "prompt = '<|startoftext|>' + prompt \n",
    "\n",
    "generated = torch.tensor(tokenizer.encode(prompt)).unsqueeze(0)"
   ]
  },
  {
   "cell_type": "code",
   "execution_count": 4,
   "metadata": {},
   "outputs": [
    {
     "name": "stderr",
     "output_type": "stream",
     "text": [
      "The attention mask and the pad token id were not set. As a consequence, you may observe unexpected behavior. Please pass your input's `attention_mask` to obtain reliable results.\n",
      "Setting `pad_token_id` to `eos_token_id`:50256 for open-end generation.\n"
     ]
    }
   ],
   "source": [
    "outputs = model.generate(\n",
    "    generated,\n",
    "    do_sample=True,\n",
    "    top_k=50,\n",
    "    max_length=150,\n",
    "    top_p=.95,\n",
    "    num_return_sequences=3\n",
    ")"
   ]
  },
  {
   "cell_type": "code",
   "execution_count": 6,
   "metadata": {},
   "outputs": [
    {
     "name": "stdout",
     "output_type": "stream",
     "text": [
      "0: Romantic heroine\n",
      "Rose Aylmer\n",
      "With lissome, scrawny feet\n",
      "With indelicate eyes\n",
      "Poor Rose Aylmer\n",
      "Is in love!\n",
      "She’ll weep,\n",
      "And Aylmer’s will mourn,\n",
      "‘Twas true all the time\n",
      "For these were good girls\n",
      "When love was only a thing of beauty\n",
      "But now they’re cursed\n",
      "With devilish wildest dreams\n",
      "And their fate is unknown\n",
      "For love is made sweet\n",
      "But not all\n",
      "The unhealthy women\n",
      "Can sustain\n",
      "And Aylmer’s fate\n",
      "They’ll rot\n",
      "Like an evil death\n",
      "That they themselves committed\n",
      "Beneath a rainbow's light\n",
      "\n",
      "\n",
      "\n",
      "1: O rose, sweet rose!\n",
      "O flower, sweet rose!\n",
      "In my soul am I blind!\n",
      "In my heart is a mark\n",
      "For every fervour!\n",
      "The starry realms above\n",
      "Are thine, my love.\n",
      "O rose, sweet rose!\n",
      "You grant me all\n",
      "My wish, all my life!\n",
      "But for that, I have given up!\n",
      "What can I give up for love?\n",
      "What can I give up for love?\n",
      "What can I give up for love?\n",
      "What can I give up for love?\n",
      "I do not know, except that\n",
      "You are giving me up for love!\n",
      "\n",
      "\n",
      "2: The first retainer\n",
      "was given to me at my wedding.\n",
      "It was on an elbow,\n",
      "and it looked like the drawing of a straw.\n",
      "The next night, I went to sleep\n",
      "And woke up to a full moon\n",
      "Laughing the loud pop, the drum go rolling.\n",
      "It was then my Lord\n",
      "called me to take His garments off;\n",
      "And he took them off again\n",
      "To take a look at them, and he saw\n",
      "That they looked like blackberries\n",
      "A little removed from their feet.\n",
      "He took them up to my feet\n",
      "And taught me to draw\n",
      "Some kind of an image in which to see\n",
      "The child walking with a smile\n",
      "On her face and not her mouth.\n",
      "\n",
      "\n"
     ]
    }
   ],
   "source": [
    "for i, sample_output in enumerate(outputs):\n",
    "  print(\"{}: {}\\n\\n\".format(i, tokenizer.decode(sample_output, skip_special_tokens=True)))"
   ]
  },
  {
   "cell_type": "code",
   "execution_count": 8,
   "metadata": {},
   "outputs": [
    {
     "data": {
      "text/plain": [
       "\"<|startoftext|>Romantic heroine\\nRose Aylmer\\nWith lissome, scrawny feet\\nWith indelicate eyes\\nPoor Rose Aylmer\\nIs in love!\\nShe’ll weep,\\nAnd Aylmer’s will mourn,\\n‘Twas true all the time\\nFor these were good girls\\nWhen love was only a thing of beauty\\nBut now they’re cursed\\nWith devilish wildest dreams\\nAnd their fate is unknown\\nFor love is made sweet\\nBut not all\\nThe unhealthy women\\nCan sustain\\nAnd Aylmer’s fate\\nThey’ll rot\\nLike an evil death\\nThat they themselves committed\\nBeneath a rainbow's light\\n\""
      ]
     },
     "execution_count": 8,
     "metadata": {},
     "output_type": "execute_result"
    }
   ],
   "source": [
    "tokenizer.decode(outputs[0], kip_special_tokens=True)"
   ]
  },
  {
   "cell_type": "code",
   "execution_count": null,
   "metadata": {},
   "outputs": [],
   "source": []
  }
 ],
 "metadata": {
  "kernelspec": {
   "display_name": "Python 3.10.9 ('hf')",
   "language": "python",
   "name": "python3"
  },
  "language_info": {
   "codemirror_mode": {
    "name": "ipython",
    "version": 3
   },
   "file_extension": ".py",
   "mimetype": "text/x-python",
   "name": "python",
   "nbconvert_exporter": "python",
   "pygments_lexer": "ipython3",
   "version": "3.10.9"
  },
  "orig_nbformat": 4,
  "vscode": {
   "interpreter": {
    "hash": "69ef6d0e336bc3c59dbb389ed4adde3fe44ea59b3b78ba5e2f9bd3f2df9710c7"
   }
  }
 },
 "nbformat": 4,
 "nbformat_minor": 2
}
